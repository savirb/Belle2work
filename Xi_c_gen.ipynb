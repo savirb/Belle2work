{
 "cells": [
  {
   "cell_type": "markdown",
   "id": "86a298c7",
   "metadata": {},
   "source": [
    "#gen script for Xi_c+"
   ]
  },
  {
   "cell_type": "code",
   "execution_count": null,
   "id": "521f9840",
   "metadata": {
    "lines_to_next_cell": 0
   },
   "outputs": [],
   "source": [
    "# #gen script for Xi_c+                                                         \n",
    "\n",
    "import basf2 as b2\n",
    "\n",
    "# Define the path                                                               \n",
    "mypath = b2.create_path()\n",
    "\n",
    "# Load the EventInfoSetter module and set the exp/run/evt details               \n",
    "mypath.add_module(\"EventInfoSetter\", expList=1003, runList=0, evtNumList=20)\n",
    "\n",
    "# Define the beam background (collision) files                                  \n",
    "import glob as glob\n",
    "# on kekcc '/group/belle2/BGFile/OfficialBKG/early_phase3/prerelease-03-01-00a/\\\n",
    "#overlay/phase31/BGx1/set0/*.root'                                               \n",
    "# on linuxfarmb '/data/BelleII/data/BGOverlay/*.root'                           \n",
    "bg = glob.glob('/data/BelleII/BGOverlay/*.root')\n",
    "\n",
    "# Add the generator for Xi_c+ -> Sigma+ pi+ pi-                                    \n",
    "from ROOT import Belle2\n",
    "decfile = '/belle2work/sbasil/sigma/sigma.dec'\n",
    "\n",
    "#generating continuum samples, requiring that every event has a certain particl\\\n",
    "                                                                               \n",
    "import generators as ge\n",
    "ge.add_inclusive_continuum_generator(path=mypath, finalstate='ccbar', particles=['Xi_c+'], userdecfile=decfile, include_conjugates=1)\n",
    "\n",
    "# Add the simulation modules                                                    \n",
    "import simulation as si\n",
    "si.add_simulation(path=mypath)\n",
    "\n",
    "# Add the trigger simulation modules                                            \n",
    "#import L1trigger as tg\n",
    "#tg.add_tsim(path=mypath, Belle2Phase=\"Phase3\")\n",
    "\n",
    "# Add the reconstruction modules                                                \n",
    "import reconstruction as re\n",
    "re.add_reconstruction(path=mypath)\n",
    "\n",
    "# Write out the results in MDST format                                          \n",
    "import mdst as mdst\n",
    "mdst.add_mdst_output(path=mypath, mc=True, filename='sigma.mdst.root')\n",
    "\n",
    "# Process all modules added to mypath                                           \n",
    "b2.process(path=mypath)\n",
    "\n",
    "# print out the summary                                                         \n",
    "print(b2.statistics)"
   ]
  },
  {
   "cell_type": "code",
   "execution_count": null,
   "id": "bd88cb94",
   "metadata": {
    "lines_to_next_cell": 2
   },
   "outputs": [],
   "source": []
  }
 ],
 "metadata": {
  "jupytext": {
   "cell_metadata_filter": "-all",
   "main_language": "python",
   "notebook_metadata_filter": "-all",
   "text_representation": {
    "extension": ".py",
    "format_name": "light"
   }
  }
 },
 "nbformat": 4,
 "nbformat_minor": 5
}
