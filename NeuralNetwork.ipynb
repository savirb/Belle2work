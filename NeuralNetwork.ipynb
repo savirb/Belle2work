{
 "cells": [
  {
   "cell_type": "code",
   "execution_count": null,
   "id": "d62e0500",
   "metadata": {},
   "outputs": [],
   "source": [
    "import numpy as np\n",
    "import pandas as pd\n",
    "import root_pandas\n",
    "from matplotlib import gridspec\n",
    "import matplotlib.pyplot as plt\n",
    "%matplotlib inline\n",
    "\n",
    "import ROOT as r\n",
    "r.gROOT.LoadMacro('/belle2work/BelleII/belle2style/Belle2Style.C') \n",
    "r.SetBelle2Style()\n",
    "\n",
    "# Make nice looking plots\n",
    "plt.rcParams.update({\n",
    "          'font.size': 20,\n",
    "          'figure.figsize': (12, 8),\n",
    "})\n",
    "\n",
    "train = '/belle2work/sbasil/lambdacpi0/fromBelleII/FastBDTs/train2.root'\n",
    "mccols = [\"Xic_isSignal\"]\n",
    "df_train = root_pandas.read_root(train, key='xicp', columns=[\"K_kaonID_noSVD\",\"p_protonID_noSVD\",\"Lambdac_y\",\"Xic_alpha\",\"Xic_DeltaM\"]+mccols)"
   ]
  },
  {
   "cell_type": "code",
   "execution_count": null,
   "id": "9564a7ab",
   "metadata": {},
   "outputs": [],
   "source": [
    "test = '/belle2work/sbasil/lambdacpi0/fromBelleII/FastBDTs/test2.root'\n",
    "df_test = root_pandas.read_root(test, key='xicp', columns=[\"K_kaonID_noSVD\",\"p_protonID_noSVD\",\"Lambdac_y\",\"Xic_alpha\",\"Xic_DeltaM\"]+mccols)"
   ]
  },
  {
   "cell_type": "code",
   "execution_count": null,
   "id": "4b3d7797",
   "metadata": {},
   "outputs": [],
   "source": [
    "import pandas as pd\n",
    "from sklearn.model_selection import train_test_split\n",
    "from sklearn.preprocessing import StandardScaler\n",
    "from sklearn.linear_model import LogisticRegression\n",
    "from sklearn.metrics import accuracy_score, classification_report\n",
    "import numpy as np\n",
    "from sklearn.neighbors import KNeighborsClassifier\n",
    "from sklearn.neural_network import MLPClassifier\n"
   ]
  },
  {
   "cell_type": "code",
   "execution_count": null,
   "id": "c7d8c0a7",
   "metadata": {},
   "outputs": [],
   "source": [
    "train_data = df_train\n",
    "test_data = df_test\n",
    "\n",
    "for c in train_data.columns:\n",
    "    train_data[c] = np.nan_to_num(train_data[c], copy = False)\n",
    "\n",
    "for c in test_data.columns:\n",
    "    test_data[c] = np.nan_to_num(test_data[c], copy = False)\n",
    "\n",
    "X_train = train_data.drop(columns=mccols+[\"Xic_DeltaM\"])\n",
    "y_train = train_data[\"Xic_isSignal\"]\n",
    "\n",
    "X_test = test_data.drop(columns=mccols+[\"Xic_DeltaM\"])\n",
    "y_test = test_data[\"Xic_isSignal\"]\n",
    "\n",
    "scaler = StandardScaler()\n",
    "X_train_scaled = scaler.fit_transform(X_train)\n",
    "X_test_scaled = scaler.transform(X_test)"
   ]
  },
  {
   "cell_type": "code",
   "execution_count": null,
   "id": "5d303848",
   "metadata": {},
   "outputs": [],
   "source": [
    "import pandas as pd\n",
    "from sklearn.model_selection import train_test_split\n",
    "from sklearn.preprocessing import StandardScaler\n",
    "from tensorflow.keras.models import Sequential\n",
    "from tensorflow.keras.layers import Dense\n",
    "from tensorflow.keras.optimizers import Adam\n",
    "from tensorflow.keras.metrics import Accuracy\n",
    "\n",
    "model = Sequential()\n",
    "model.add(Dense(units=64, activation='relu', input_dim=X_train_scaled.shape[1]))\n",
    "model.add(Dense(units=32, activation='relu'))\n",
    "model.add(Dense(units=1, activation='sigmoid'))\n",
    "\n",
    "model.compile(optimizer=Adam(learning_rate=0.001), loss='binary_crossentropy', metrics=[Accuracy()])\n",
    "\n",
    "model.fit(X_train_scaled, y_train, epochs=20, batch_size=32)\n",
    "\n",
    "y_probabilities = model.predict(X_test_scaled)"
   ]
  },
  {
   "cell_type": "code",
   "execution_count": null,
   "id": "3183d1f2",
   "metadata": {},
   "outputs": [],
   "source": [
    "X_test[\"Xic_DeltaM\"] = test_data[\"Xic_DeltaM\"]\n",
    "X_test[\"Xic_isSignal\"] = test_data[\"Xic_isSignal\"]\n",
    "#for v in [\"Lambdac_isSignal\",\"Lambdac_mcPDG\",\"Lambdac_genMotherPDG\",\"pi0_mcPDG\",\"pi0_genMotherPDG\"]:\n",
    "    #X_test[v] = test_data[v]"
   ]
  },
  {
   "cell_type": "code",
   "execution_count": null,
   "id": "b13e165f",
   "metadata": {},
   "outputs": [],
   "source": [
    "predictions_df = pd.DataFrame({\"pred\": [i[0] for i in y_probabilities],\n",
    "                               \"Xic_isSignal\": X_test[\"Xic_isSignal\"],\n",
    "                               \"Xic_DeltaM\": X_test[\"Xic_DeltaM\"],\n",
    "                              })"
   ]
  },
  {
   "cell_type": "code",
   "execution_count": null,
   "id": "4e1077a6",
   "metadata": {},
   "outputs": [],
   "source": [
    "#predictions_df.to_csv(index=False)"
   ]
  },
  {
   "cell_type": "code",
   "execution_count": null,
   "id": "ccbe5dbd",
   "metadata": {},
   "outputs": [],
   "source": [
    "predictions_df = predictions_df.query(\"pred > 0.1\")"
   ]
  },
  {
   "cell_type": "code",
   "execution_count": null,
   "id": "ace0596c",
   "metadata": {
    "scrolled": false
   },
   "outputs": [],
   "source": [
    "ax = plt.subplot()\n",
    "cuts = \"Xic_DeltaM > 0\"\n",
    "var = \"Xic_DeltaM\"\n",
    "\n",
    "charmbgs = '((abs(Lambdac_mcPDG)==411 and abs(Lambdac_genMotherPDG)==413) or (abs(Lambdac_mcPDG)==421 and abs(Lambdac_genMotherPDG)==423) or (abs(Lambdac_mcPDG)==431 and abs(Lambdac_genMotherPDG)==433))'\n",
    "sigmast = '(pi0_mcPDG==111 and Lambdac_isSignal==1 and ((abs(Lambdac_genMotherPDG)==4212 and abs(pi0_genMotherPDG)==4212)))'\n",
    "sigmastst = '(pi0_mcPDG==111 and Lambdac_isSignal==1 and ((abs(Lambdac_genMotherPDG)==4214 and abs(pi0_genMotherPDG)==4214)))'\n",
    "\n",
    "npbkg = predictions_df.query(cuts + ' and Xic_isSignal == 0')[var].to_numpy()\n",
    "nptrue = predictions_df.query(cuts + ' and Xic_isSignal == 1')[var].to_numpy()\n",
    "\n",
    "ax.hist([npbkg,nptrue], bins=200, range=(0.125,0.4),\n",
    "        label=[\"bkg\",\"signal\"], stacked=True)\n",
    "\n",
    "#ax.hist([nptrue], bins=200, range=(0.125,0.4),\n",
    "        #label=[\"signal\"], stacked=True)\n",
    "    \n",
    "    \n",
    "    \n",
    "plt.xlabel(\"Xic_DeltaM\")\n",
    "plt.legend(loc=0)\n",
    "plt.xlim((0.125,0.35))\n",
    "plt.show()\n",
    "\n"
   ]
  },
  {
   "cell_type": "code",
   "execution_count": null,
   "id": "f4072417",
   "metadata": {},
   "outputs": [],
   "source": [
    "# Create a DataFrame with the true labels, predicted labels, and other features (e.g., \"distance\")\n",
    "predictions_df = pd.DataFrame({\"pred\": [i[0] for i in y_probabilities],\n",
    "                               \"Xic_isSignal\": X_test[\"Xic_isSignal\"],\n",
    "                               \"Xic_DeltaM\": X_test[\"Xic_DeltaM\"],\n",
    "                              })\n",
    "#base_bkg = predictions_df.query('Xic_isSignal == 0')[\"Xic_DeltaM\"].to_numpy()\n",
    "#base_sig = predictions_df.query('Xic_isSignal == 1')[\"Xic_DeltaM\"].to_numpy()\n"
   ]
  }
 ],
 "metadata": {
  "kernelspec": {
   "display_name": "Python 3 (Belle2)",
   "language": "python",
   "name": "python3"
  },
  "language_info": {
   "codemirror_mode": {
    "name": "ipython",
    "version": 3
   },
   "file_extension": ".py",
   "mimetype": "text/x-python",
   "name": "python",
   "nbconvert_exporter": "python",
   "pygments_lexer": "ipython3",
   "version": "3.8.8"
  }
 },
 "nbformat": 4,
 "nbformat_minor": 5
}
